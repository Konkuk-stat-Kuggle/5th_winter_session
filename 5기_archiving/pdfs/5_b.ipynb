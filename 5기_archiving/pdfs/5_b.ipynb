{
 "cells": [
  {
   "cell_type": "code",
   "execution_count": 142,
   "id": "4811f05a-8250-422c-a714-5688fd46132f",
   "metadata": {},
   "outputs": [
    {
     "data": {
      "text/html": [
       "<div>\n",
       "<style scoped>\n",
       "    .dataframe tbody tr th:only-of-type {\n",
       "        vertical-align: middle;\n",
       "    }\n",
       "\n",
       "    .dataframe tbody tr th {\n",
       "        vertical-align: top;\n",
       "    }\n",
       "\n",
       "    .dataframe thead th {\n",
       "        text-align: right;\n",
       "    }\n",
       "</style>\n",
       "<table border=\"1\" class=\"dataframe\">\n",
       "  <thead>\n",
       "    <tr style=\"text-align: right;\">\n",
       "      <th></th>\n",
       "      <th>price</th>\n",
       "      <th>bedrooms</th>\n",
       "      <th>bathrooms</th>\n",
       "      <th>sqft_living</th>\n",
       "      <th>sqft_lot</th>\n",
       "    </tr>\n",
       "  </thead>\n",
       "  <tbody>\n",
       "    <tr>\n",
       "      <th>0</th>\n",
       "      <td>221900.0</td>\n",
       "      <td>3</td>\n",
       "      <td>1.00</td>\n",
       "      <td>1180</td>\n",
       "      <td>5650</td>\n",
       "    </tr>\n",
       "    <tr>\n",
       "      <th>1</th>\n",
       "      <td>538000.0</td>\n",
       "      <td>3</td>\n",
       "      <td>2.25</td>\n",
       "      <td>2570</td>\n",
       "      <td>7242</td>\n",
       "    </tr>\n",
       "    <tr>\n",
       "      <th>2</th>\n",
       "      <td>180000.0</td>\n",
       "      <td>2</td>\n",
       "      <td>1.00</td>\n",
       "      <td>770</td>\n",
       "      <td>10000</td>\n",
       "    </tr>\n",
       "    <tr>\n",
       "      <th>3</th>\n",
       "      <td>604000.0</td>\n",
       "      <td>4</td>\n",
       "      <td>3.00</td>\n",
       "      <td>1960</td>\n",
       "      <td>5000</td>\n",
       "    </tr>\n",
       "    <tr>\n",
       "      <th>4</th>\n",
       "      <td>510000.0</td>\n",
       "      <td>3</td>\n",
       "      <td>2.00</td>\n",
       "      <td>1680</td>\n",
       "      <td>8080</td>\n",
       "    </tr>\n",
       "  </tbody>\n",
       "</table>\n",
       "</div>"
      ],
      "text/plain": [
       "      price  bedrooms  bathrooms  sqft_living  sqft_lot\n",
       "0  221900.0         3       1.00         1180      5650\n",
       "1  538000.0         3       2.25         2570      7242\n",
       "2  180000.0         2       1.00          770     10000\n",
       "3  604000.0         4       3.00         1960      5000\n",
       "4  510000.0         3       2.00         1680      8080"
      ]
     },
     "execution_count": 142,
     "metadata": {},
     "output_type": "execute_result"
    }
   ],
   "source": [
    "import pandas as pd\n",
    "import numpy as np\n",
    "import time\n",
    "from sklearn.model_selection import train_test_split\n",
    "\n",
    "house_df = pd.read_csv('kc_house_data.csv', dtype = {'id':str})\n",
    "house_df.drop(['id', 'date', 'zipcode'], axis = 1, inplace = True)\n",
    "house_df = house_df[[\"price\", \"bedrooms\", \"bathrooms\", \"sqft_living\", \"sqft_lot\"]]\n",
    "house_df.head()"
   ]
  },
  {
   "cell_type": "code",
   "execution_count": 143,
   "id": "f48a826e",
   "metadata": {},
   "outputs": [],
   "source": [
    "from sklearn.preprocessing import StandardScaler\n",
    "\n",
    "scaler = StandardScaler()\n",
    "house_df.price = scaler.fit_transform(house_df[[\"price\"]])\n",
    "house_df.bedrooms = scaler.fit_transform(house_df[[\"bedrooms\"]])\n",
    "house_df.bathrooms = scaler.fit_transform(house_df[[\"bathrooms\"]])\n",
    "house_df.sqft_living = scaler.fit_transform(house_df[[\"sqft_living\"]])\n",
    "house_df.sqft_lot = scaler.fit_transform(house_df[[\"sqft_lot\"]])"
   ]
  },
  {
   "cell_type": "code",
   "execution_count": 144,
   "id": "292972b0-4302-408d-a5f0-4541cf2e2a5c",
   "metadata": {},
   "outputs": [],
   "source": [
    "# 데이터 만들기\n",
    "Y = house_df[['price']]\n",
    "X = house_df.drop('price', axis = 1)\n",
    "\n",
    "X_copy = X.copy()\n",
    "Y_copy = Y.copy()\n",
    "# X.insert(0, 'one', 1) # design matrix\n",
    "\n",
    "X_train_1, X_test_1, y_train_1, y_test_1 = train_test_split(X, Y, test_size = 0.2, random_state = 13)\n",
    "X_train, X_test, y_train, y_test = np.array(X_train_1), np.array(X_test_1), np.array(y_train_1), np.array(y_test_1)\n",
    "\n",
    "X_train_2, X_test_2, y_train_2, y_test_2 = train_test_split(X_copy, Y_copy, test_size = 0.2, random_state = 13)\n"
   ]
  },
  {
   "cell_type": "code",
   "execution_count": 145,
   "id": "76ccb411-a250-4481-8ec0-a1f45713bab7",
   "metadata": {},
   "outputs": [
    {
     "name": "stdout",
     "output_type": "stream",
     "text": [
      "걸린 시간 : 0.0009028911590576172\n",
      "rmse : 0.6820506091980052\n"
     ]
    }
   ],
   "source": [
    "# 직접 행렬식으로 계산\n",
    "def beta(X, y):\n",
    "    return np.linalg.inv((X.T@X))@X.T@y\n",
    "    \n",
    "check_time = time.time()\n",
    "beta_train = beta(X_train, y_train)\n",
    "end_time = time.time()\n",
    "print('걸린 시간 :', end_time - check_time)\n",
    "\n",
    "y_hat_test = X_test@beta_train\n",
    "mse = ((y_test - y_hat_test)**2).sum() / len(X_test) \n",
    "print('rmse :', np.sqrt(mse))"
   ]
  },
  {
   "cell_type": "code",
   "execution_count": 146,
   "id": "ca4ff8c5-0a64-4e16-a08d-0c75faed1359",
   "metadata": {},
   "outputs": [
    {
     "name": "stdout",
     "output_type": "stream",
     "text": [
      "걸린 시간 ;  0.1453418731689453\n",
      "MSE train data:  0.7056162853904003\n",
      "MSE test data:  0.6820525136127931\n"
     ]
    }
   ],
   "source": [
    "# scikit learn으로 계산\n",
    "from sklearn.linear_model import LinearRegression\n",
    "from sklearn.metrics import mean_squared_error\n",
    "\n",
    "check_trime = time.time()\n",
    "lr = LinearRegression()\n",
    "lr.fit(X_train_2, y_train_2)\n",
    "end_time = time.time()\n",
    "print(\"걸린 시간 ; \", end_time - check_time)\n",
    "\n",
    "y_pred = lr.predict(X_test_2) # 검증 데이터를 사용해 종속변수를 예측\n",
    "y_train_pred = lr.predict(X_train_2) # 학습데이터에 대한 종속변수를 예측\n",
    "print('MSE train data: ', np.sqrt(mean_squared_error(y_train_2, y_train_pred))) # 학습 데이터를 사용했을 때의 평균 제곱 오차를 출력\n",
    "print('MSE test data: ', np.sqrt(mean_squared_error(y_test_2, y_pred)))         # 검증 데이터를 사용했을 때의 평균 제곱 오차를 출력"
   ]
  },
  {
   "cell_type": "code",
   "execution_count": 152,
   "id": "4099e9b6",
   "metadata": {},
   "outputs": [],
   "source": [
    "import torch\n",
    "from torch.utils.data import TensorDataset\n",
    "from torch.utils.data import DataLoader\n"
   ]
  },
  {
   "cell_type": "code",
   "execution_count": 153,
   "id": "3d88518f",
   "metadata": {},
   "outputs": [],
   "source": [
    "from sklearn.model_selection import train_test_split\n",
    "X_train, X_test, y_train, y_test = train_test_split(X, Y, test_size = 0.2)"
   ]
  },
  {
   "cell_type": "code",
   "execution_count": 154,
   "id": "fcde9c65",
   "metadata": {},
   "outputs": [
    {
     "name": "stdout",
     "output_type": "stream",
     "text": [
      "tensor([[-0.1363, -0.9527, -1.1333,  0.5418]], requires_grad=True) tensor([-0.8757], requires_grad=True)\n"
     ]
    }
   ],
   "source": [
    "inputs = torch.tensor(np.array(X_train), dtype = torch.float32)\n",
    "targets = torch.tensor(np.array(y_train), dtype = torch.float32)\n",
    "dataset = TensorDataset(inputs, targets)\n",
    "train_loader = DataLoader(dataset, shuffle = True)\n",
    "\n",
    "w = torch.randn(1, 4, requires_grad = True)\n",
    "b = torch.randn(1, requires_grad = True)\n",
    "print(w, b)\n",
    "\n",
    "def model(X):\n",
    "    return X @ w.t() + b\n",
    "\n",
    "def mse_loss(predictions, targets):\n",
    "    loss_func = torch.nn.MSELoss()\n",
    "    _loss = loss_func(predictions, targets)\n",
    "    return _loss\n",
    "    # difference = predictions - targets\n",
    "    # return torch.sum(difference * difference) / difference.numel()\n",
    "\n",
    "# for x,y in train_loader:\n",
    "#     preds = model(x)\n",
    "#     print(\"Prediction is :n\",preds)\n",
    "#     print(\"nActual targets is :n\",y)\n",
    "#     print(\"Loss is: \",mse_loss(preds, y))\n",
    "#     break"
   ]
  },
  {
   "cell_type": "code",
   "execution_count": 155,
   "id": "a3dbe32e",
   "metadata": {},
   "outputs": [
    {
     "name": "stdout",
     "output_type": "stream",
     "text": [
      "Epoch 1 / 15 : Loss : 1.7178213596343994\n",
      "Epoch 2 / 15 : Loss : 1.5772264003753662\n",
      "Epoch 3 / 15 : Loss : 1.4458153247833252\n",
      "Epoch 4 / 15 : Loss : 1.3229541778564453\n",
      "Epoch 5 / 15 : Loss : 1.2080438137054443\n",
      "Epoch 6 / 15 : Loss : 1.1005408763885498\n",
      "Epoch 7 / 15 : Loss : 0.9999319911003113\n",
      "Epoch 8 / 15 : Loss : 0.9057292342185974\n",
      "Epoch 9 / 15 : Loss : 0.8175055384635925\n",
      "Epoch 10 / 15 : Loss : 0.7348468899726868\n",
      "Epoch 11 / 15 : Loss : 0.6573808789253235\n",
      "Epoch 12 / 15 : Loss : 0.5847436785697937\n",
      "Epoch 13 / 15 : Loss : 0.5166121125221252\n",
      "Epoch 14 / 15 : Loss : 0.45268166065216064\n",
      "Epoch 15 / 15 : Loss : 0.39267635345458984\n"
     ]
    }
   ],
   "source": [
    "epochs = 15\n",
    "for i in range(epochs):\n",
    "    \n",
    "    for x, y in zip(inputs, targets):\n",
    "        \n",
    "        preds = x@w.t() + b\n",
    "        loss = mse_loss(preds, y)\n",
    "        loss.backward()\n",
    "        \n",
    "        with torch.no_grad():\n",
    "            \n",
    "            w -= w.grad * 1e-6\n",
    "            b -= b.grad * 1e-6\n",
    "            \n",
    "            w.grad = None\n",
    "            b.grad = None\n",
    "\n",
    "    print(f\"Epoch {i + 1} / {epochs} : Loss : {loss**0.5}\")"
   ]
  },
  {
   "cell_type": "code",
   "execution_count": 156,
   "id": "d5895ac1",
   "metadata": {},
   "outputs": [
    {
     "name": "stdout",
     "output_type": "stream",
     "text": [
      "tensor(1.3977, grad_fn=<PowBackward0>)\n"
     ]
    }
   ],
   "source": [
    "eval_inputs = torch.tensor(np.array(X_train), dtype = torch.float32)\n",
    "eval_targets = torch.tensor(np.array(y_train), dtype = torch.float32)\n",
    "\n",
    "preds = eval_inputs @ w.t() + b\n",
    "loss = mse_loss(preds, eval_targets)\n",
    "print(loss ** 0.5)"
   ]
  },
  {
   "cell_type": "code",
   "execution_count": null,
   "id": "1896d84c",
   "metadata": {},
   "outputs": [],
   "source": []
  }
 ],
 "metadata": {
  "kernelspec": {
   "display_name": "Python 3",
   "language": "python",
   "name": "python3"
  },
  "language_info": {
   "codemirror_mode": {
    "name": "ipython",
    "version": 3
   },
   "file_extension": ".py",
   "mimetype": "text/x-python",
   "name": "python",
   "nbconvert_exporter": "python",
   "pygments_lexer": "ipython3",
   "version": "3.7.10"
  }
 },
 "nbformat": 4,
 "nbformat_minor": 5
}
