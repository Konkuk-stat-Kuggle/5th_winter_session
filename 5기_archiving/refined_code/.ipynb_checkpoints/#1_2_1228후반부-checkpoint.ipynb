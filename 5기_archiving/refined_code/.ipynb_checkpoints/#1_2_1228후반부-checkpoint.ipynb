{
 "cells": [
  {
   "cell_type": "markdown",
   "id": "cd90e33e",
   "metadata": {},
   "source": [
    "# Label-Imbalanced Dataset"
   ]
  },
  {
   "cell_type": "code",
   "execution_count": null,
   "id": "b25bf5bd",
   "metadata": {},
   "outputs": [],
   "source": [
    "class MyDummyClassifier(BaseEstimator):\n",
    "    def fit(self, X, y = None):\n",
    "        pass\n",
    "    def predict(self, X):\n",
    "        pred = np.zeros((X.shape[0], 1))\n",
    "        for i in range(X.shape[0]):\n",
    "            if X[\"Sex\"].iloc[i] == 1:\n",
    "                pred[i] = 0\n",
    "            else:\n",
    "                pred[i] = 1\n",
    "        return pred\n",
    "    \n",
    "class MyFakeClassifier(BaseEstimator):\n",
    "    def fit(self, X, y):\n",
    "        pass\n",
    "    def predict(self, X):\n",
    "        return np.zeros((len(X), 1), dtype = bool)\n",
    "digits = load_digits()\n",
    "y = (digits.target == 7).astype(int)\n",
    "X_train, X_test, y_train, y_test = train_test_split(digits.data, y, random_state = 42)\n",
    "fake = MyFakeClassifier()\n",
    "fake.fit(X_train, y_train)\n",
    "fake.predict(X_test)"
   ]
  },
  {
   "cell_type": "markdown",
   "id": "aef285e9",
   "metadata": {},
   "source": [
    "# Recall and Precision"
   ]
  },
  {
   "cell_type": "code",
   "execution_count": null,
   "id": "4ecae817",
   "metadata": {},
   "outputs": [],
   "source": [
    "X = [[1, -1, 2],\n",
    "    [2, 0, 0],\n",
    "    [0, 1.1, 1.2]]\n",
    "binarizer = Binarizer(threshold = 1.1)\n",
    "\n",
    "custom_threshold = 0.5\n",
    "pred_proba_1 = pred_proba[:, 1].reshape(-1, 1)\n",
    "binarizer = Binarizer(threshold = custom_threshold).fit(pred_proba_1)\n",
    "custom_predict = binarizer.transfrom9pred_proba_1\n",
    "\n",
    "custom_threshold = 0.4\n",
    "pred_proba_2 = pred_proba[:, 1].reshape(-1, 1)\n",
    "binarizer = Binarizer(threshold = custom_threshold).fit(pred_proba_2)\n",
    "custom_predict = binarizer.transfrom9pred_proba_2"
   ]
  },
  {
   "cell_type": "markdown",
   "id": "03cd4564",
   "metadata": {},
   "source": [
    "# Controlling Threshold"
   ]
  },
  {
   "cell_type": "code",
   "execution_count": null,
   "id": "0eb75c2b",
   "metadata": {},
   "outputs": [],
   "source": [
    "thresholds = [0.4, 0.45, 0.50, 0.55, 0.60]\n",
    "\n",
    "def get_eval_by_threshold(y_test, pred_proba_c1, thresholds):\n",
    "    for custom_threshold in thresholds:\n",
    "        binarizer = Binarizer(threshold = custom_threshold).fit(pred_proba_c1)\n",
    "        custom_predict = binarizer.transform(pred_proba_c1)\n",
    "        get_clf_eval(y_test, custom_predict)\n",
    "    \n",
    "def precision_recall_curve_plot(y_test, pred_proba_c1):\n",
    "    precisions, recalls, thresholds = precision_revall_curve(y_test, pred_proba_c1)\n",
    "    plt.figure(figsize = (8, 8))\n",
    "    plt.plot(thresholds, precisions[0:threshold_boundary], linestyle = \"--\", label = \"precision\")\n",
    "    plt.plot(thresholds, recalls[0:threshold_boundary], label = \"recall\")\n",
    "    \n",
    "    strt, end = plt.xlim()\n",
    "    plt.xticks(np.round(np.arange(strt, end, 0.1), 2))\n",
    "    \n",
    "    plt.xlabel(\"Threshold Value\"); plt.ylabel(\"Precision and Recall Curve\")\n",
    "    plt.legend(); plt.grid()\n",
    "    plt.show()"
   ]
  },
  {
   "cell_type": "markdown",
   "id": "23bcf131",
   "metadata": {},
   "source": [
    "# ROC and AUC Graph"
   ]
  },
  {
   "cell_type": "code",
   "execution_count": null,
   "id": "049f3029",
   "metadata": {},
   "outputs": [],
   "source": [
    "def roc_curve_plot(y_test, pred_proba_c1):\n",
    "    fprs, tprs, thresholds = roc_curve(y_test, pred_proba_c1)\n",
    "    \n",
    "    plt.plot(fprs, tprs, label = \"ROC\")\n",
    "    plt.plot([0, 1], [0, 1], \"k--\", label = \"Random\")\n",
    "    \n",
    "    strt, end = plt.xlim()\n",
    "    plt.xticks(np.round(np.arange(strt, end, 0.1), 2))\n",
    "    plt.xlim(0, 1); plt.ylim(0, 1)\n",
    "    plt.xlabel(\"FPR(1 - Sensitivity)\"); plt.ylabel(\"RPT(Recall)\")\n",
    "    plt.legend()\n",
    "    plt.show()"
   ]
  },
  {
   "cell_type": "markdown",
   "id": "20167bdf",
   "metadata": {},
   "source": [
    "# Pima Indian Example"
   ]
  },
  {
   "cell_type": "code",
   "execution_count": null,
   "id": "279bb00d",
   "metadata": {},
   "outputs": [],
   "source": [
    "X = diabetes_data.iloc[:, :-1]\n",
    "y = diabetes_data.iloc[:, -1]\n",
    "\n",
    "X_train, X_test, y_trian, y_test = train_test_split(X, y, test_size = 0.2, random_state = 42, stratify = y)\n",
    "\n",
    "lr_clf = LogisticRegression()\n",
    "lr_clf.fit(X_train, y_train)\n",
    "pred = lr_clf.predict(X_test)\n",
    "pred_proba = lr_clf.predict_proba(X_test)[:, 1]\n",
    "\n",
    "thresholds = [0.3, 0.33, 0.36, 0.39, 0.42, 0.45, 0.48, 0.5]\n",
    "get_eval_by_threshold(y_test, pred_proba[:, 1].reshape(-1, 1), thresholds)\n",
    "\n",
    "binarizer = Binarizer(threshold = thresholds[-2])\n",
    "pred_th_048 = binarizer.fit_transform(pred_proba[:, 1].reshape(-1, 1))\n",
    "get_clf_eval(y_test, pred_th_048, pred_proba[:, 1])"
   ]
  }
 ],
 "metadata": {
  "kernelspec": {
   "display_name": "Python 3.7.10 64-bit ('tf': conda)",
   "language": "python",
   "name": "python3710jvsc74a57bd0dc1b947dce198ff7f2d2cb152b2cbb61132fce4429fa808fd5b89ac4d7df39fa"
  },
  "language_info": {
   "codemirror_mode": {
    "name": "ipython",
    "version": 3
   },
   "file_extension": ".py",
   "mimetype": "text/x-python",
   "name": "python",
   "nbconvert_exporter": "python",
   "pygments_lexer": "ipython3",
   "version": "3.7.10"
  }
 },
 "nbformat": 4,
 "nbformat_minor": 5
}
