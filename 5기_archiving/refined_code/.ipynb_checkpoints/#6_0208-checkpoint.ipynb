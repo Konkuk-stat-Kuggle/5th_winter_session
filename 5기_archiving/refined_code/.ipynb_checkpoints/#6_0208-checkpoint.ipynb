{
 "cells": [
  {
   "cell_type": "markdown",
   "id": "7deff93d",
   "metadata": {},
   "source": [
    "##### Empty"
   ]
  },
  {
   "cell_type": "code",
   "execution_count": null,
   "id": "825bbc96",
   "metadata": {},
   "outputs": [],
   "source": []
  }
 ],
 "metadata": {
  "kernelspec": {
   "display_name": "Python 3.7.10 64-bit ('tf': conda)",
   "language": "python",
   "name": "python3710jvsc74a57bd0dc1b947dce198ff7f2d2cb152b2cbb61132fce4429fa808fd5b89ac4d7df39fa"
  },
  "language_info": {
   "codemirror_mode": {
    "name": "ipython",
    "version": 3
   },
   "file_extension": ".py",
   "mimetype": "text/x-python",
   "name": "python",
   "nbconvert_exporter": "python",
   "pygments_lexer": "ipython3",
   "version": "3.7.10"
  }
 },
 "nbformat": 4,
 "nbformat_minor": 5
}
