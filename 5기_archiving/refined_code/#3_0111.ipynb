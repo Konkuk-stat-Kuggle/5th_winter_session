{
 "cells": [
  {
   "cell_type": "code",
   "execution_count": null,
   "id": "43cd2edd",
   "metadata": {},
   "outputs": [],
   "source": [
    "train_data, test_df = pd.read_csv(\"\"), pd.read_csv(\"\")\n",
    "\n",
    "models = [ADABoostingClassifier(), GBMClassifier(), XGBClassifier, LGBMClassifier(), CatBoostClassifier()]\n",
    "acc, t = [], []\n",
    "for model in models:\n",
    "    start = time.time()\n",
    "    model.fit(X_train, y_train)\n",
    "    pred = model.predict(X_test)\n",
    "    end = time.time()\n",
    "    acc.append(accuracy_score(pred, y_test))\n",
    "    t.append(end - start)"
   ]
  }
 ],
 "metadata": {
  "kernelspec": {
   "display_name": "Python 3.7.10 64-bit ('tf': conda)",
   "language": "python",
   "name": "python3710jvsc74a57bd0dc1b947dce198ff7f2d2cb152b2cbb61132fce4429fa808fd5b89ac4d7df39fa"
  },
  "language_info": {
   "codemirror_mode": {
    "name": "ipython",
    "version": 3
   },
   "file_extension": ".py",
   "mimetype": "text/x-python",
   "name": "python",
   "nbconvert_exporter": "python",
   "pygments_lexer": "ipython3",
   "version": "3.7.10"
  }
 },
 "nbformat": 4,
 "nbformat_minor": 5
}
