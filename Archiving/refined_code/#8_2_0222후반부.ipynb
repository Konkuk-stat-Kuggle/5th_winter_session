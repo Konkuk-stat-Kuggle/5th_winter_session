{
 "cells": [
  {
   "cell_type": "code",
   "execution_count": null,
   "id": "b483c8f6",
   "metadata": {},
   "outputs": [],
   "source": [
    "df = pd.read_csv(\"diabetes.csv\")\n",
    "\n",
    "scaler = StandardScaler() #PCA를 위한 scaling\n",
    "X = df.drop([\"Outcome\"], axis = 1) \n",
    "y = df.Outcome\n",
    "\n",
    "X_scaled = scaler.fit_transform(X)\n",
    "\n",
    "pca = PCA(n_components = 2) #거리 공식 사용 및 시각화에 용의하게 하기 위해 pca 적용\n",
    "X_pca = pca.fit_transform(X_scaled)\n",
    "\n",
    "ndf= pd.DataFrame(X_pca)\n",
    "ndf[\"Outcome\"] = y\n",
    "\n",
    "ndf.columns=['x','y', 'Outcome']\n",
    "\n",
    "model = RandomForestClassifier()\n",
    "\n",
    "X = ndf.drop([\"Outcome\"], axis = 1)\n",
    "y = ndf.Outcome\n",
    "\n",
    "X_train, X_test, y_train, y_test = train_test_split(X, y, test_size = 0.2, random_state = 42)\n",
    "\n",
    "model.fit(X_train, y_train)\n",
    "pred = model.predict(X_test)\n",
    "\n",
    "\n",
    "print(accuracy_score(pred, y_test))"
   ]
  },
  {
   "cell_type": "code",
   "execution_count": null,
   "id": "4b16dd56",
   "metadata": {},
   "outputs": [],
   "source": [
    "kmeans = KMeans(n_clusters=2,init='k-means++',n_init=10,max_iter=300,random_state=0)\n",
    "temp = kmeans.fit(X)\n",
    "ndf[\"cluster\"] = -1\n",
    "ndf[\"cluster\"] = temp.labels_\n",
    "cluster0_center, cluster1_center = temp.cluster_centers_[0], temp.cluster_centers_[1]\n",
    "\n",
    "df_zero = ndf[ndf.cluster == 0]\n",
    "df_one = ndf[ndf.cluster == 1]\n",
    "df_zero[\"dist\"] = 10000000\n",
    "df_one[\"dist\"] = 10000000\n",
    "\n",
    "for i in range(len(df_zero)):\n",
    "    df_zero[\"dist\"].iloc[i] = ((cluster0_center[0] - df_zero.iloc[i]['x'])**2 + \n",
    "                               (cluster0_center[1] - df_zero.iloc[i]['y'])**2)**(1/2)\n",
    "for i in range(len(df_one)):\n",
    "    df_one[\"dist\"].iloc[i] = ((cluster1_center[0] - df_one.iloc[i]['x'])**2 + \n",
    "                              (cluster1_center[1] - df_one.iloc[i]['y'])**2)**(1/2)"
   ]
  },
  {
   "cell_type": "code",
   "execution_count": null,
   "id": "a491812a",
   "metadata": {},
   "outputs": [],
   "source": [
    "sort_dfzero=df_zero.sort_values(\"dist\", ascending = False)\n",
    "zero_a, zero_b = sort_dfzero['x'].iloc[0] , sort_dfzero['y'].iloc[0]\n",
    "zero_maxdist=sort_dfzero['dist'].iloc[0]\n",
    "\n",
    "sort_dfone=df_one.sort_values(\"dist\", ascending = False)\n",
    "one_a, one_b = sort_dfone['x'].iloc[0] , sort_dfone['y'].iloc[0]\n",
    "one_maxdist=sort_dfone['dist'].iloc[0]"
   ]
  },
  {
   "cell_type": "code",
   "execution_count": null,
   "id": "ce6c0ae9",
   "metadata": {},
   "outputs": [],
   "source": [
    "zero_top = cluster0_center[1] + abs(zero_b)\n",
    "zero_bot = cluster0_center[1] - abs(zero_b)\n",
    "zero_right = cluster0_center[0] + abs(zero_a)\n",
    "zero_left = cluster0_center[0] - abs(zero_a)\n",
    "\n",
    "import random\n",
    "lst_zero_x, lst_zero_y = [], []\n",
    "while True:\n",
    "    x = random.uniform(zero_left, zero_right)\n",
    "    y = random.uniform(zero_bot, zero_top)\n",
    "    if ((x - cluster0_center[0])**2 + (y - cluster0_center[1])**2)**(1/2) > zero_maxdist:\n",
    "        continue\n",
    "    else:\n",
    "        lst_zero_x.append(x)\n",
    "        lst_zero_y.append(y)\n",
    "    if len(lst_zero_x) == 800:\n",
    "        break\n",
    "\n",
    "temp1 = pd.DataFrame(lst_zero_x)\n",
    "temp2 = pd.DataFrame(lst_zero_y)\n",
    "temp = pd.concat([temp1, temp2], axis = 1)\n",
    "temp.columns = ['x', 'y']\n",
    "temp[\"Outcome\"] = 0\n",
    "temp[\"cluster\"] = 0"
   ]
  },
  {
   "cell_type": "code",
   "execution_count": null,
   "id": "114b700a",
   "metadata": {},
   "outputs": [],
   "source": [
    "one_top = cluster1_center[1] + abs(one_b)\n",
    "one_bot = cluster1_center[1] - abs(one_b)\n",
    "one_right = cluster1_center[0] + abs(one_a)\n",
    "one_left = cluster1_center[0] - abs(one_a)\n",
    "\n",
    "import random\n",
    "lst_one_x, lst_one_y = [], []\n",
    "while True:\n",
    "    x = random.uniform(one_left, one_right)\n",
    "    y = random.uniform(one_bot, one_top)\n",
    "    if ((x - cluster1_center[0])**2 + (y - cluster1_center[1])**2)**(1/2) > one_maxdist:\n",
    "        continue\n",
    "    else:\n",
    "        lst_one_x.append(x)\n",
    "        lst_one_y.append(y)\n",
    "    if len(lst_one_x) == 800:\n",
    "        break\n",
    "        \n",
    "temp1 = pd.DataFrame(lst_one_x)\n",
    "temp2 = pd.DataFrame(lst_one_y)\n",
    "ntemp = pd.concat([temp1, temp2], axis = 1)\n",
    "ntemp.columns = ['x', 'y']\n",
    "ntemp[\"Outcome\"] = 1\n",
    "ntemp[\"cluster\"] = 1\n",
    "\n",
    "nntemp = pd.concat([temp, ntemp], axis = 0)\n",
    "nntemp.reset_index(inplace = True)\n",
    "nntemp.drop(['index'], axis = 1, inplace = True)"
   ]
  },
  {
   "cell_type": "code",
   "execution_count": null,
   "id": "49e84d75",
   "metadata": {},
   "outputs": [],
   "source": [
    "df = pd.concat([ndf, nntemp], axis = 0)\n",
    "df.reset_index(inplace = True)\n",
    "df.drop([\"index\"], axis = 1, inplace = True)\n",
    "\n",
    "X = df.drop([\"Outcome\", \"cluster\"], axis = 1)\n",
    "y = df[\"Outcome\"]\n",
    "\n",
    "X_train, X_test, y_train, y_test = train_test_split(X, y, test_size = 0.2, random_state = 42, stratify = y)\n",
    "model = RandomForestClassifier()\n",
    "model.fit(X_train, y_train)\n",
    "pred = model.predict(X_test)"
   ]
  },
  {
   "cell_type": "code",
   "execution_count": null,
   "id": "041bb159",
   "metadata": {},
   "outputs": [],
   "source": [
    "acc = accuracy_score(y_test, pred)\n",
    "print(acc)"
   ]
  }
 ],
 "metadata": {
  "kernelspec": {
   "display_name": "Python 3.7.10 64-bit ('tf': conda)",
   "language": "python",
   "name": "python3710jvsc74a57bd0dc1b947dce198ff7f2d2cb152b2cbb61132fce4429fa808fd5b89ac4d7df39fa"
  },
  "language_info": {
   "codemirror_mode": {
    "name": "ipython",
    "version": 3
   },
   "file_extension": ".py",
   "mimetype": "text/x-python",
   "name": "python",
   "nbconvert_exporter": "python",
   "pygments_lexer": "ipython3",
   "version": "3.7.10"
  }
 },
 "nbformat": 4,
 "nbformat_minor": 5
}
