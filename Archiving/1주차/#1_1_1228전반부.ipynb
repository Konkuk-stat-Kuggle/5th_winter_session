{
 "cells": [
  {
   "cell_type": "markdown",
   "id": "3b6be3f6",
   "metadata": {},
   "source": [
    "# Custom_train_test_split"
   ]
  },
  {
   "cell_type": "code",
   "execution_count": null,
   "id": "b74a5aa0",
   "metadata": {},
   "outputs": [],
   "source": [
    "def custom_train_test_split(X, y, test_size, random_state):\n",
    "    df = pd.concat([pd.DataFrame(X), pd.DataFrame(y)], axis = 1)\n",
    "    test_len = rount(len(df)*test_size)\n",
    "    if random_state <= len(df) - test_len:\n",
    "        test_df = df[random_state : random_staet + test_len]\n",
    "        train_df = df[:random_state] + df[random_state + test_len:]\n",
    "    else:\n",
    "        random_state = 0\n",
    "        df.sample(frac = 1)\n",
    "    return train_df[:-1], test_df[:-1], train_df[-1], test_df[-1]"
   ]
  },
  {
   "cell_type": "markdown",
   "id": "b2d0854d",
   "metadata": {},
   "source": [
    "# Custom_KFold"
   ]
  },
  {
   "cell_type": "code",
   "execution_count": null,
   "id": "2a3e3863",
   "metadata": {},
   "outputs": [],
   "source": [
    "def custom_KFold(model, data, cv):\n",
    "    acc_lst = []\n",
    "    data = pd.DataFrame(data.sample(frac = 1))\n",
    "    initial_ratio = round(1 / cv)*len(data)\n",
    "    ratio = initial_ratio\n",
    "    \n",
    "    for i in range(cv):\n",
    "        val_data = data[i*initial_ratio : ratio]\n",
    "        train_data = data.drop(data[i*initial_ratio:ratio], axis = 0)\n",
    "        \n",
    "        X_train, X_test, y_train, y_test = train_data[:-1], train_data[-1], val_data[:-1], val_data[-1]\n",
    "        \n",
    "        model.fit(X_train, y_train)\n",
    "        pred = model.predict(X_test)\n",
    "        acc_lst.append(accuracy_score(y_test, pred))\n",
    "    return acc_lst"
   ]
  },
  {
   "cell_type": "markdown",
   "id": "6ab4b6f5",
   "metadata": {},
   "source": [
    "# Dacon_Sports_Example"
   ]
  },
  {
   "cell_type": "code",
   "execution_count": null,
   "id": "034c5521",
   "metadata": {},
   "outputs": [],
   "source": [
    "df_train = pd.read_csv(\"drive/MyDrive/dataset/Dacon/fifa/FIFA_train.csv\", index_col = 0)\n",
    "df_test = pd.read_csv(\"drive/MyDrive/dataset/Dacon/fifa/FIFA_test.csv\", index_col = 0)\n",
    "\n",
    "df_train[\"contract_left\"] = 0\n",
    "df_train[\"contract_until\"] = pd.to_numeric(df_train[\"contract_until\"])\n",
    "df_train[\"contract_left\"] = df_train[\"contract_until\"] - df_train[\"contract_until\"].min()\n",
    "\n",
    "scaler = StandardScaler()\n",
    "df_train[\"stat_overall\"] = scaler.fit_transform(np.array(df_train.stat_overall).reshape(-1, 1))\n",
    "df_train[\"stat_potential\"] = scaler.fit_transform(np.array(df_train.stat_potential).reshape(-1, 1))\n",
    "df_train[\"stat_skill_moves\"] = scaler.fit_transform(np.array(df_train.stat_skill_moves).reshape(-1, 1))\n",
    "\n",
    "df_train = pd.get_dummies(df_train, columns = [\"continent\", \"prefer_foot\", \"position\"])\n",
    "df_test = pd.get_dummies(df_test, columns = [\"continent\", \"prefer_foot\", \"position\"])\n",
    "\n",
    "rf_reg = RandomForestRegressor()\n",
    "lgbm_reg = LGBMRegressor()\n",
    "xgbm_reg = XGBRegressor()\n",
    "cat_reg = CatBoostRegressor()\n",
    "ng_reg = NGBRegressor()\n",
    "\n",
    "models = [rf_reg, lgbm_reg, xgbm_reg, cat_reg, ng_reg]\n",
    "rmse = []\n",
    "pred_df = pd.DataFrame()\n",
    "\n",
    "kfold = KFold(n_splits= 10, shuffle = True, random_state = 23)\n",
    "\n",
    "test_result = np.zeros((target.shape[0]))\n",
    "\n",
    "for model in models:\n",
    "    \n",
    "    temp = []\n",
    "\n",
    "    for train_idx, test_idx in kfold.split(X, y):\n",
    "                \n",
    "        X_train, y_train = X.iloc[train_idx], y.iloc[train_idx]\n",
    "        X_test, y_test = X.iloc[test_idx], y.iloc[test_idx]\n",
    "\n",
    "        model.fit(X_train, np.log1p(y_train))\n",
    "        pred = model.predict(X_test)\n",
    "        score = np.sqrt(mean_squared_error(np.expm1(pred), y_test))\n",
    "\n",
    "        test_pred = np.expm1([0 if x<0 else x for x in model.predict(target)]) / 10\n",
    "        test_result += test_pred / 5\n",
    "    \n",
    "        temp.append(score) \n",
    "\n",
    "    rmse.append(np.mean(temp))\n",
    "    \n",
    "    "
   ]
  }
 ],
 "metadata": {
  "kernelspec": {
   "display_name": "Python 3.7.10 64-bit ('tf': conda)",
   "language": "python",
   "name": "python3710jvsc74a57bd0dc1b947dce198ff7f2d2cb152b2cbb61132fce4429fa808fd5b89ac4d7df39fa"
  },
  "language_info": {
   "codemirror_mode": {
    "name": "ipython",
    "version": 3
   },
   "file_extension": ".py",
   "mimetype": "text/x-python",
   "name": "python",
   "nbconvert_exporter": "python",
   "pygments_lexer": "ipython3",
   "version": "3.7.10"
  }
 },
 "nbformat": 4,
 "nbformat_minor": 5
}
